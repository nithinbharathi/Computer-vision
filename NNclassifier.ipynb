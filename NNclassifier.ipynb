{
 "cells": [
  {
   "cell_type": "code",
   "execution_count": 13,
   "id": "69366aac",
   "metadata": {},
   "outputs": [],
   "source": [
    "import numpy as np\n",
    "from matplotlib import pyplot as plt\n",
    "import glob"
   ]
  },
  {
   "cell_type": "code",
   "execution_count": 14,
   "id": "da9c1213",
   "metadata": {},
   "outputs": [],
   "source": [
    "def unpickle(file):\n",
    "    import pickle\n",
    "    with open(file, 'rb') as fo:\n",
    "        dict = pickle.load(fo, encoding='bytes')\n",
    "    return dict"
   ]
  },
  {
   "cell_type": "code",
   "execution_count": 15,
   "id": "c1d15f9f",
   "metadata": {},
   "outputs": [],
   "source": [
    "#input dataset\n",
    "\n",
    "file  = '/Users/nithinbharathi/Downloads/cifar10/data_batch_1'\n",
    "batches_meta = unpickle('/Users/nithinbharathi/Downloads/cifar10/batches.meta')"
   ]
  },
  {
   "cell_type": "code",
   "execution_count": 16,
   "id": "8d5f0d61",
   "metadata": {},
   "outputs": [],
   "source": [
    "#preprocess\n",
    "\n",
    "img_extract = unpickle(file)\n",
    "images = img_extract[b'data']\n",
    "labels = batches_meta[b'label_names']\n",
    "label_mappings = {i:j for i,j in enumerate(labels)}\n",
    "\n",
    "#input\n",
    "\n",
    "x = images.reshape(-1,3,32,32).transpose(0,2,3,1)\n",
    "y = img_extract[b'labels']"
   ]
  },
  {
   "cell_type": "code",
   "execution_count": 56,
   "id": "188449f0",
   "metadata": {},
   "outputs": [],
   "source": [
    "#Model\n",
    "\n",
    "class NNclassifier:   \n",
    "    def __init__(self):\n",
    "        self.x = None\n",
    "        self.y = None\n",
    "        \n",
    "    def train(self,x,y):\n",
    "        self.x = x\n",
    "        self.y = y\n",
    "        \n",
    "    def test(self,inp):\n",
    "        return self.predict(inp)\n",
    "    \n",
    "    def predict(self,inp):\n",
    "        global_dist = 1e9\n",
    "        for i in range(1,25):\n",
    "            dist = np.sum(np.abs(self.x[i]-inp))\n",
    "            if(dist<global_dist):\n",
    "                global_dist = dist\n",
    "                label = label_mappings[self.y[i]]\n",
    "                output = self.y[i]\n",
    "        return output\n",
    "    \n"
   ]
  },
  {
   "cell_type": "code",
   "execution_count": 102,
   "id": "3f777b62",
   "metadata": {},
   "outputs": [],
   "source": [
    "#initializing the model\n",
    "\n",
    "obj = NNclassifier()\n",
    "obj.train(x,y)"
   ]
  },
  {
   "cell_type": "code",
   "execution_count": 84,
   "id": "408d6cf4",
   "metadata": {},
   "outputs": [],
   "source": [
    "#testing\n",
    "\n",
    "predictions = []\n",
    "for i in range(100,105):\n",
    "    pred = obj.test(x[i])\n",
    "    predictions.append(pred)\n",
    "    "
   ]
  },
  {
   "cell_type": "code",
   "execution_count": 101,
   "id": "8a631ee2",
   "metadata": {},
   "outputs": [
    {
     "data": {
      "text/plain": [
       "20.0"
      ]
     },
     "execution_count": 101,
     "metadata": {},
     "output_type": "execute_result"
    }
   ],
   "source": [
    "#accuracy\n",
    "\n",
    "np.count_nonzero(np.array(y[100:105]) == np.array(predictions))/5*100"
   ]
  }
 ],
 "metadata": {
  "kernelspec": {
   "display_name": "Python 3 (ipykernel)",
   "language": "python",
   "name": "python3"
  },
  "language_info": {
   "codemirror_mode": {
    "name": "ipython",
    "version": 3
   },
   "file_extension": ".py",
   "mimetype": "text/x-python",
   "name": "python",
   "nbconvert_exporter": "python",
   "pygments_lexer": "ipython3",
   "version": "3.10.10"
  }
 },
 "nbformat": 4,
 "nbformat_minor": 5
}
