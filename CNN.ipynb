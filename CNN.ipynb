{
 "cells": [
  {
   "cell_type": "code",
   "execution_count": 72,
   "id": "16738a29",
   "metadata": {},
   "outputs": [],
   "source": [
    "import torch\n",
    "import torch.nn as nn\n",
    "import torch.optim as optim\n",
    "import torch.nn.functional as f\n",
    "from matplotlib import pyplot as plt\n",
    "import numpy as np"
   ]
  },
  {
   "cell_type": "code",
   "execution_count": 152,
   "id": "6844ca42",
   "metadata": {},
   "outputs": [],
   "source": [
    "def unpickle(file):\n",
    "    import pickle\n",
    "    with open(file, 'rb') as fo:\n",
    "        dict = pickle.load(fo, encoding='bytes')\n",
    "    return dict"
   ]
  },
  {
   "cell_type": "code",
   "execution_count": 153,
   "id": "f9d5e69a",
   "metadata": {},
   "outputs": [],
   "source": [
    "image_extract = unpickle('/Users/nithinbharathi/Downloads/cifar10/data_batch_1')"
   ]
  },
  {
   "cell_type": "code",
   "execution_count": 157,
   "id": "541622cb",
   "metadata": {},
   "outputs": [],
   "source": [
    "#preprocess\n",
    "\n",
    "images = image_extract[b'data']\n",
    "x = torch.tensor(images.reshape(-1,3,32,32))\n",
    "x= x/256\n",
    "y = torch.tensor(image_extract[b'labels'])"
   ]
  },
  {
   "cell_type": "code",
   "execution_count": 159,
   "id": "938bcf0d",
   "metadata": {},
   "outputs": [],
   "source": [
    "#Model\n",
    "\n",
    "class Cnn(nn.Module):\n",
    "    def __init__(self):\n",
    "        super().__init__()\n",
    "        self.conv1 = nn.Conv2d(in_channels = 3,out_channels= 6, kernel_size = 5)\n",
    "        self.max_pool = nn.MaxPool2d(2,2)\n",
    "        self.conv2 = nn.Conv2d(in_channels = 6,out_channels = 16, kernel_size = 5)\n",
    "        self.fc1 = nn.Linear(16*5*5,120)\n",
    "        self.fc2 = nn.Linear(120,84)\n",
    "        self.fc3  = nn.Linear(84,10)\n",
    "        \n",
    "    def forward(self,x):\n",
    "        z = self.max_pool(f.relu(self.conv1(x)))        \n",
    "        z = self.max_pool(f.relu(self.conv2(z)))\n",
    "        z = torch.flatten(z,1)\n",
    "        z = f.relu(self.fc1(z))\n",
    "        z = f.relu(self.fc2(z))\n",
    "        z = self.fc3(z)\n",
    "        return z\n",
    "        \n",
    "    "
   ]
  },
  {
   "cell_type": "code",
   "execution_count": 160,
   "id": "a7ab6eff",
   "metadata": {},
   "outputs": [],
   "source": [
    "model = Cnn()"
   ]
  },
  {
   "cell_type": "code",
   "execution_count": 161,
   "id": "068bde17",
   "metadata": {},
   "outputs": [],
   "source": [
    "# loss & optimization function\n",
    "\n",
    "loss = nn.CrossEntropyLoss()\n",
    "optimizer = optim.SGD(model.parameters(),lr = 0.01)"
   ]
  },
  {
   "cell_type": "code",
   "execution_count": 163,
   "id": "6882b7b8",
   "metadata": {},
   "outputs": [
    {
     "name": "stdout",
     "output_type": "stream",
     "text": [
      "2.305081367492676\n",
      "2.305060625076294\n",
      "2.305039644241333\n",
      "2.305018901824951\n",
      "2.3049981594085693\n"
     ]
    }
   ],
   "source": [
    "#training\n",
    "\n",
    "for epoch in range(10):\n",
    "    optimizer.zero_grad()\n",
    "    prediction = model(x)\n",
    "    l = loss(prediction,y)\n",
    "    l.backward()\n",
    "    optimizer.step()\n",
    "    if epoch%2 == 0:\n",
    "        print(l.item())"
   ]
  },
  {
   "cell_type": "code",
   "execution_count": 57,
   "id": "26edbee5",
   "metadata": {},
   "outputs": [],
   "source": []
  }
 ],
 "metadata": {
  "kernelspec": {
   "display_name": "Python 3 (ipykernel)",
   "language": "python",
   "name": "python3"
  },
  "language_info": {
   "codemirror_mode": {
    "name": "ipython",
    "version": 3
   },
   "file_extension": ".py",
   "mimetype": "text/x-python",
   "name": "python",
   "nbconvert_exporter": "python",
   "pygments_lexer": "ipython3",
   "version": "3.10.10"
  }
 },
 "nbformat": 4,
 "nbformat_minor": 5
}
