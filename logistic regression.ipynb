{
 "cells": [
  {
   "cell_type": "code",
   "execution_count": 2,
   "id": "9ffb6ae8",
   "metadata": {},
   "outputs": [],
   "source": [
    "import h5py\n",
    "import numpy as np\n",
    "from matplotlib import pyplot as plt\n",
    "\n",
    "def sigmoid(n):\n",
    "    return 1/(1+np.exp(-n))"
   ]
  },
  {
   "cell_type": "code",
   "execution_count": null,
   "id": "ed5ad3b8",
   "metadata": {},
   "outputs": [],
   "source": [
    "images = h5py.File('/content/drive/MyDrive/Personal doc/Dataset_Cat/train_catvnoncat.h5','r')\n",
    "X,Y = images['train_set_x'][:], images['train_set_y'][:]\n",
    "M = len(X)\n",
    "images = h5py.File('/content/drive/MyDrive/Personal doc/Dataset_Cat/test_catvnoncat.h5')\n",
    "X_test,Y_test = images['test_set_x'][:], images['test_set_y'][:]\n",
    "X_test = X_test.reshape(X_test.shape[0],-1).T\n",
    "X = X.reshape(X.shape[0],-1).T\n",
    "X_test = X_test/255; X = X/255\n",
    "W = np.zeros(X.shape[0])\n",
    "B = 0"
   ]
  },
  {
   "cell_type": "code",
   "execution_count": null,
   "id": "e5bc94ae",
   "metadata": {},
   "outputs": [],
   "source": [
    "for epoch in range(10):\n",
    "    Z = W@X + B\n",
    "    A = sigmoid(Z)\n",
    "    L = (-1/M) * np.sum(Y*(np.log(A)) + ((1-Y)*np.log(1-A)))\n",
    "    dZ = A - Y\n",
    "    dW = dZ @ X.T\n",
    "    dB = np.sum(dZ)\n",
    "    dW = dW/M;dB = dB/M\n",
    "    W = W - 0.01*dW\n",
    "    B = B - 0.01*dB\n",
    "    if(epoch%100 == 0):\n",
    "        print(L)\n"
   ]
  }
 ],
 "metadata": {
  "kernelspec": {
   "display_name": "Python 3 (ipykernel)",
   "language": "python",
   "name": "python3"
  },
  "language_info": {
   "codemirror_mode": {
    "name": "ipython",
    "version": 3
   },
   "file_extension": ".py",
   "mimetype": "text/x-python",
   "name": "python",
   "nbconvert_exporter": "python",
   "pygments_lexer": "ipython3",
   "version": "3.10.10"
  }
 },
 "nbformat": 4,
 "nbformat_minor": 5
}
