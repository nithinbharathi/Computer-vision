{
 "cells": [
  {
   "cell_type": "code",
   "execution_count": 2,
   "id": "e99711bc",
   "metadata": {},
   "outputs": [],
   "source": [
    "import glob\n",
    "import ssl \n",
<<<<<<< HEAD
    "ssl._create_default_https_context = ssl._create_unverified_context\n",
    "from keras.datasets import mnist\n",
=======
    "ssl._create_default_https_context =  ssl._create_unverified_context\n",
    "from keras.datasets import cifar10\n",
>>>>>>> ce17f992ba45966c117a69001d6fcd573771008c
    "import numpy as np"
   ]
  },
  {
   "cell_type": "code",
   "execution_count": 4,
   "id": "505de415",
   "metadata": {},
   "outputs": [
    {
     "name": "stdout",
     "output_type": "stream",
     "text": [
      "Downloading data from https://storage.googleapis.com/tensorflow/tf-keras-datasets/mnist.npz\n",
      "11490434/11490434 [==============================] - 2s 0us/step\n"
     ]
    }
   ],
   "source": [
    "(X_train,Y_train),(X_test,Y_test) = mnist.load_data()"
   ]
  },
  {
   "cell_type": "code",
   "execution_count": 81,
   "id": "a612c506",
   "metadata": {},
   "outputs": [],
   "source": [
    "def reshape(X):\n",
    "    return X.reshape(X.shape[0],-1).T\n",
    "def softmax(Z):\n",
    "    return np.exp(Z)/np.sum(Z)\n",
    "def one_hot(Y,C):\n",
    "    arr = np.zeros((len(Y),C))\n",
    "    arr[np.arange(len(Y)),Y] = 1;\n",
    "    return arr"
   ]
  },
  {
   "cell_type": "code",
   "execution_count": 46,
   "id": "7a77c81b",
   "metadata": {},
   "outputs": [],
   "source": [
    "X = reshape(X_train)/255"
   ]
  },
  {
   "cell_type": "code",
   "execution_count": 47,
   "id": "33942b47",
   "metadata": {},
   "outputs": [],
   "source": [
    "W = np.random.randn(10,X.shape[0])"
   ]
  },
  {
   "cell_type": "code",
   "execution_count": 48,
   "id": "2a10ca67",
   "metadata": {},
   "outputs": [
    {
     "data": {
      "text/plain": [
       "((10, 784), (784, 60000))"
      ]
     },
     "execution_count": 48,
     "metadata": {},
     "output_type": "execute_result"
    }
   ],
   "source": [
    "b = np.random.randn(10,1)\n",
    "W.shape,X.shape"
   ]
  },
  {
   "cell_type": "code",
   "execution_count": 49,
   "id": "728bb2c4",
   "metadata": {},
   "outputs": [],
   "source": [
    "Z = W@X + b"
   ]
  },
  {
   "cell_type": "code",
   "execution_count": 50,
   "id": "623e1c44",
   "metadata": {},
   "outputs": [],
   "source": [
    "A = softmax(Z)"
   ]
  },
  {
   "cell_type": "code",
   "execution_count": 83,
   "id": "992b7388",
   "metadata": {},
   "outputs": [
    {
     "name": "stderr",
     "output_type": "stream",
     "text": [
      "/var/folders/xz/gdd9l0_53fd8kc3463khz6sr0000gn/T/ipykernel_9384/576166738.py:1: RuntimeWarning: invalid value encountered in log\n",
      "  loss = -Y*np.log(A)\n"
     ]
    }
   ],
   "source": [
    "#todo\n",
    "loss = -Y*np.log(A)\n"
   ]
  }
 ],
 "metadata": {
  "kernelspec": {
   "display_name": "Python 3 (ipykernel)",
   "language": "python",
   "name": "python3"
  },
  "language_info": {
   "codemirror_mode": {
    "name": "ipython",
    "version": 3
   },
   "file_extension": ".py",
   "mimetype": "text/x-python",
   "name": "python",
   "nbconvert_exporter": "python",
   "pygments_lexer": "ipython3",
   "version": "3.10.10"
  }
 },
 "nbformat": 4,
 "nbformat_minor": 5
}
