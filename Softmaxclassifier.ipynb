{
 "cells": [
  {
   "cell_type": "code",
   "execution_count": 3,
   "id": "4686bc37",
   "metadata": {},
   "outputs": [],
   "source": [
    "import glob\n",
    "import ssl \n",
    "ssl._create_default_https_context = ssl._create_unverified_context\n",
    "from keras.datasets import mnist\n",
    "import numpy as np"
   ]
  },
  {
   "cell_type": "code",
   "execution_count": 4,
   "id": "2d3924da",
   "metadata": {},
   "outputs": [],
   "source": [
    "(X_train,Y_train),(X_test,Y_test) = mnist.load_data()"
   ]
  },
  {
   "cell_type": "code",
   "execution_count": 5,
   "id": "14d959f2",
   "metadata": {},
   "outputs": [],
   "source": [
    "def reshape(X):\n",
    "    return X.reshape(X.shape[0],-1).T\n",
    "def softmax(Z):\n",
    "    return np.exp(Z)/np.sum(Z)\n",
    "def one_hot(Y,C):\n",
    "    arr = np.zeros((len(Y),C))\n",
    "    arr[np.arange(len(Y)),Y] = 1;\n",
    "    return arr"
   ]
  },
  {
   "cell_type": "code",
   "execution_count": 6,
   "id": "b66a7e5b",
   "metadata": {},
   "outputs": [],
   "source": [
    "X = reshape(X_train)/255"
   ]
  },
  {
   "cell_type": "code",
   "execution_count": 7,
   "id": "1e00ac52",
   "metadata": {},
   "outputs": [],
   "source": [
    "W = np.random.randn(10,X.shape[0])"
   ]
  },
  {
   "cell_type": "code",
   "execution_count": 8,
   "id": "40629cd4",
   "metadata": {},
   "outputs": [
    {
     "data": {
      "text/plain": [
       "((10, 784), (784, 60000))"
      ]
     },
     "execution_count": 8,
     "metadata": {},
     "output_type": "execute_result"
    }
   ],
   "source": [
    "b = np.random.randn(10,1)\n",
    "W.shape,X.shape"
   ]
  },
  {
   "cell_type": "code",
   "execution_count": 9,
   "id": "d4a15b1c",
   "metadata": {},
   "outputs": [],
   "source": [
    "Z = W@X + b"
   ]
  },
  {
   "cell_type": "code",
   "execution_count": 10,
   "id": "15e419dd",
   "metadata": {},
   "outputs": [],
   "source": [
    "A = softmax(Z)"
   ]
  },
  {
   "cell_type": "code",
   "execution_count": 11,
   "id": "9d3f7bd7",
   "metadata": {},
   "outputs": [
    {
     "ename": "NameError",
     "evalue": "name 'Y' is not defined",
     "output_type": "error",
     "traceback": [
      "\u001b[0;31m---------------------------------------------------------------------------\u001b[0m",
      "\u001b[0;31mNameError\u001b[0m                                 Traceback (most recent call last)",
      "Cell \u001b[0;32mIn[11], line 2\u001b[0m\n\u001b[1;32m      1\u001b[0m \u001b[38;5;66;03m#todo\u001b[39;00m\n\u001b[0;32m----> 2\u001b[0m loss \u001b[38;5;241m=\u001b[39m \u001b[38;5;241m-\u001b[39m\u001b[43mY\u001b[49m\u001b[38;5;241m*\u001b[39mnp\u001b[38;5;241m.\u001b[39mlog(A)\n",
      "\u001b[0;31mNameError\u001b[0m: name 'Y' is not defined"
     ]
    }
   ],
   "source": [
    "#todo\n",
    "loss = -Y*np.log(A)"
   ]
  },
  {
   "cell_type": "code",
   "execution_count": null,
   "id": "cc2a5317",
   "metadata": {},
   "outputs": [],
   "source": []
  }
 ],
 "metadata": {
  "kernelspec": {
   "display_name": "Python 3 (ipykernel)",
   "language": "python",
   "name": "python3"
  },
  "language_info": {
   "codemirror_mode": {
    "name": "ipython",
    "version": 3
   },
   "file_extension": ".py",
   "mimetype": "text/x-python",
   "name": "python",
   "nbconvert_exporter": "python",
   "pygments_lexer": "ipython3",
   "version": "3.10.10"
  }
 },
 "nbformat": 4,
 "nbformat_minor": 5
}
