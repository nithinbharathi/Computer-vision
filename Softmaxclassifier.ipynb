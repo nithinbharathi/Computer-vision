{
 "cells": [
  {
   "cell_type": "code",
   "execution_count": 115,
   "id": "4686bc37",
   "metadata": {},
   "outputs": [],
   "source": [
    "import glob\n",
    "import ssl \n",
    "import torch\n",
    "import torch.nn\n",
    "from matplotlib import pyplot as plt\n",
    "ssl._create_default_https_context = ssl._create_unverified_context\n",
    "from keras.datasets import mnist\n",
    "import numpy as np"
   ]
  },
  {
   "cell_type": "code",
   "execution_count": 10,
   "id": "2d3924da",
   "metadata": {},
   "outputs": [],
   "source": [
    "#loading the dataset\n",
    "\n",
    "(X_train,Y_train),(X_test,Y_test) = mnist.load_data()"
   ]
  },
  {
   "cell_type": "code",
   "execution_count": 11,
   "id": "14d959f2",
   "metadata": {},
   "outputs": [],
   "source": [
    "#utility functions \n",
    "\n",
    "def reshape(X):\n",
    "    return X.reshape(X.shape[0],-1)\n",
    "\n",
    "def softmax(Z):\n",
    "    exp = torch.exp(Z)\n",
    "    total = torch.sum(exp,axis = 1,keepdims = True)\n",
    "    return exp/total\n",
    "    \n",
    "\n",
    "def one_hot(Y,C):\n",
    "    arr = np.zeros((len(Y),C))\n",
    "    arr[np.arange(len(Y)),Y] = 1;\n",
    "    return arr\n",
    "\n",
    "def sigmoid(Z):\n",
    "    return 1/(1+(torch.exp(-Z)))\n",
    "    "
   ]
  },
  {
   "cell_type": "code",
   "execution_count": 134,
   "id": "b66a7e5b",
   "metadata": {},
   "outputs": [],
   "source": [
    "#hyperparameter initialization and data prepocessing\n",
    "\n",
    "X_reshape = reshape(X_train)\n",
    "X = torch.from_numpy(X_reshape).float()\n",
    "Y = Y_train.tolist()\n",
    "W = torch.randn(X.shape[1],10,requires_grad = True)\n",
    "b = torch.randn(10,requires_grad = True)\n",
    "M = len(Y)\n",
    "lr = 0.01\n",
    "X = X/255\n",
    "losses = []"
   ]
  },
  {
   "cell_type": "code",
   "execution_count": 158,
   "id": "d4a15b1c",
   "metadata": {},
   "outputs": [
    {
     "name": "stdout",
     "output_type": "stream",
     "text": [
      "10.273191452026367\n",
      "10.2562837600708\n",
      "10.23941707611084\n",
      "10.222591400146484\n",
      "10.205808639526367\n",
      "10.189066886901855\n",
      "10.172367095947266\n",
      "10.155706405639648\n",
      "10.13908576965332\n",
      "10.122506141662598\n"
     ]
    }
   ],
   "source": [
    "#training\n",
    "\n",
    "for epoch in range(10):\n",
    "    Z = X@W + b\n",
    "    A = softmax(Z)\n",
    "    cross_entropy = -torch.mean(A[torch.arange(M),Y].log())\n",
    "    losses.append(cross_entropy.detach().item())\n",
    "    print(cross_entropy.detach().item())\n",
    "    W.grad = None\n",
    "    b.grad = None\n",
    "    cross_entropy.backward()\n",
    "    W.data = W.data - lr*W.grad\n",
    "    b.data = b.data - lr*b.grad\n"
   ]
  },
  {
   "cell_type": "code",
   "execution_count": 157,
   "id": "15e419dd",
   "metadata": {},
   "outputs": [
    {
     "data": {
      "text/plain": [
       "Text(0, 0.5, 'loss')"
      ]
     },
     "execution_count": 157,
     "metadata": {},
     "output_type": "execute_result"
    },
    {
     "data": {
      "image/png": "[encoded data removed]",
      "text/plain": [
       "<Figure size 640x480 with 1 Axes>"
      ]
     },
     "metadata": {},
     "output_type": "display_data"
    }
   ],
   "source": [
    "#plotting the loss curve\n",
    "\n",
    "plt.plot(np.arange(len(losses)),losses)\n",
    "plt.xlabel('epochs')\n",
    "plt.ylabel('loss')"
   ]
  },
  {
   "cell_type": "code",
   "execution_count": 183,
   "id": "9d3f7bd7",
   "metadata": {},
   "outputs": [
    {
     "data": {
      "text/plain": [
       "tensor(5)"
      ]
     },
     "execution_count": 183,
     "metadata": {},
     "output_type": "execute_result"
    }
   ],
   "source": [
    "#testing\n",
    "input_img = torch.from_numpy(X_test[0]).reshape(1,-1).float()/255\n",
    "Z = input_img@W + b\n",
    "A = softmax(Z)\n",
    "prediction = torch.argmax(A)\n",
    "prediction"
   ]
  },
  {
   "cell_type": "code",
   "execution_count": null,
   "id": "96a7e50b",
   "metadata": {},
   "outputs": [],
   "source": []
  }
 ],
 "metadata": {
  "kernelspec": {
   "display_name": "Python 3 (ipykernel)",
   "language": "python",
   "name": "python3"
  },
  "language_info": {
   "codemirror_mode": {
    "name": "ipython",
    "version": 3
   },
   "file_extension": ".py",
   "mimetype": "text/x-python",
   "name": "python",
   "nbconvert_exporter": "python",
   "pygments_lexer": "ipython3",
   "version": "3.10.10"
  }
 },
 "nbformat": 4,
 "nbformat_minor": 5
}
