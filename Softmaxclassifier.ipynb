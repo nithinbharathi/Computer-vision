{
 "cells": [
  {
   "cell_type": "code",
   "execution_count": 7,
   "id": "4686bc37",
   "metadata": {},
   "outputs": [],
   "source": [
    "import glob\n",
    "import ssl \n",
    "ssl._create_default_https_context = ssl._create_unverified_context\n",
    "from keras.datasets import mnist\n",
    "import numpy as np"
   ]
  },
  {
   "cell_type": "code",
   "execution_count": 8,
   "id": "2d3924da",
   "metadata": {},
   "outputs": [],
   "source": [
    "(X_train,Y_train),(X_test,Y_test) = mnist.load_data()"
   ]
  },
  {
   "cell_type": "code",
   "execution_count": 98,
   "id": "14d959f2",
   "metadata": {},
   "outputs": [],
   "source": [
    "def reshape(X):\n",
    "    return X.reshape(X.shape[0],-1).T\n",
    "def softmax(Z):\n",
    "    for i in range(len(Z)):\n",
    "        Z[i] = np.exp(Z[i])/np.sum(Z[i])\n",
    "    return Z\n",
    "def one_hot(Y,C):\n",
    "    arr = np.zeros((len(Y),C))\n",
    "    arr[np.arange(len(Y)),Y] = 1;\n",
    "    return arr"
   ]
  },
  {
   "cell_type": "code",
   "execution_count": 105,
   "id": "b66a7e5b",
   "metadata": {},
   "outputs": [],
   "source": [
    "X = reshape(X_train)/255\n",
    "Y = Y_train\n",
    "Yh = one_hot(Y,10)\n",
    "W = np.zeros((10,X.shape[0]))\n",
    "b = np.random.randn(10,1)\n",
    "M = len(Y)\n",
    "lr = 0.001"
   ]
  },
  {
   "cell_type": "code",
   "execution_count": 121,
   "id": "d4a15b1c",
   "metadata": {},
   "outputs": [],
   "source": [
    "Z = W@X + b"
   ]
  },
  {
   "cell_type": "code",
   "execution_count": 122,
   "id": "15e419dd",
   "metadata": {},
   "outputs": [],
   "source": [
    "A = softmax(Z.T)"
   ]
  },
  {
   "cell_type": "code",
   "execution_count": 123,
   "id": "9d3f7bd7",
   "metadata": {},
   "outputs": [
    {
     "name": "stderr",
     "output_type": "stream",
     "text": [
      "/var/folders/xz/gdd9l0_53fd8kc3463khz6sr0000gn/T/ipykernel_1238/2607342137.py:2: RuntimeWarning: invalid value encountered in log\n",
      "  loss = -np.mean(np.log(A[np.arange(len(Y)),Y]))\n"
     ]
    },
    {
     "data": {
      "text/plain": [
       "nan"
      ]
     },
     "execution_count": 123,
     "metadata": {},
     "output_type": "execute_result"
    }
   ],
   "source": [
    "#todo\n",
    "loss = -np.mean(np.log(A[np.arange(len(Y)),Y]))\n",
    "loss"
   ]
  },
  {
   "cell_type": "code",
   "execution_count": 119,
   "id": "aeb50431",
   "metadata": {},
   "outputs": [],
   "source": [
    "DW = X@(A-Yh);Db = np.sum(A-Yh)\n",
    "DW = DW/M; Db = Db/M;"
   ]
  },
  {
   "cell_type": "code",
   "execution_count": 120,
   "id": "cc2a5317",
   "metadata": {},
   "outputs": [],
   "source": [
    "W = W - lr*DW.T\n",
    "#B = B  - lr*Db"
   ]
  },
  {
   "cell_type": "code",
   "execution_count": 60,
   "id": "7ce14fdd",
   "metadata": {},
   "outputs": [
    {
     "data": {
      "text/plain": [
       "((60000, 10), (60000, 10), (10, 784))"
      ]
     },
     "execution_count": 60,
     "metadata": {},
     "output_type": "execute_result"
    }
   ],
   "source": [
    "A.shape,Yh.shape,W.shape"
   ]
  },
  {
   "cell_type": "code",
   "execution_count": 97,
   "id": "9f414993",
   "metadata": {},
   "outputs": [
    {
     "data": {
      "text/plain": [
       "(10, 60000)"
      ]
     },
     "execution_count": 97,
     "metadata": {},
     "output_type": "execute_result"
    }
   ],
   "source": [
    "Z.shape\n"
   ]
  },
  {
   "cell_type": "code",
   "execution_count": null,
   "id": "eac8d5b9",
   "metadata": {},
   "outputs": [],
   "source": []
  }
 ],
 "metadata": {
  "kernelspec": {
   "display_name": "Python 3 (ipykernel)",
   "language": "python",
   "name": "python3"
  },
  "language_info": {
   "codemirror_mode": {
    "name": "ipython",
    "version": 3
   },
   "file_extension": ".py",
   "mimetype": "text/x-python",
   "name": "python",
   "nbconvert_exporter": "python",
   "pygments_lexer": "ipython3",
   "version": "3.10.10"
  }
 },
 "nbformat": 4,
 "nbformat_minor": 5
}
